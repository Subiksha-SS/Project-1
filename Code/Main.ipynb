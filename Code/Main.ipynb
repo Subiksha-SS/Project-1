{
 "cells": [
  {
   "cell_type": "code",
   "execution_count": 1,
   "id": "cdea802e",
   "metadata": {},
   "outputs": [],
   "source": [
    "import pandas as pd\n",
    "import matplotlib.pyplot as plt\n",
    "from pathlib import Path\n",
    "import plotly.express as px\n",
    "import scipy.stats as st\n",
    "import numpy as py\n",
    "\n"
   ]
  },
  {
   "cell_type": "code",
   "execution_count": 2,
   "id": "7c7da89e",
   "metadata": {
    "scrolled": true
   },
   "outputs": [
    {
     "name": "stderr",
     "output_type": "stream",
     "text": [
      "\n",
      "KeyboardInterrupt\n",
      "\n"
     ]
    }
   ],
   "source": [
    "data_df = pd.read_csv('Resources/Crime_Data_from_2020_to_Present.csv')\n",
    "\n",
    "main_df = data_df[['DR_NO', 'DATE OCC', \n",
    "                   'TIME OCC', 'Vict Age', \n",
    "                   'Vict Sex','Vict Descent',\n",
    "                  'LAT', 'LON']]\n",
    "main_df.count()"
   ]
  },
  {
   "cell_type": "code",
   "execution_count": null,
   "id": "8dab0df2",
   "metadata": {},
   "outputs": [],
   "source": [
    "# disclaimer for dropping missing age data\n",
    "cleaning_df = main_df.set_index('Vict Age')\n",
    "cleaning_df = cleaning_df.drop(index = 0)\n",
    "cleaning_df = cleaning_df.reset_index()\n",
    "\n",
    "cleaning_df = cleaning_df.dropna(how='any')\n"
   ]
  },
  {
   "cell_type": "code",
   "execution_count": null,
   "id": "90390b83",
   "metadata": {},
   "outputs": [],
   "source": [
    "final_df = cleaning_df.rename(columns={'DR_NO': 'File Number',\n",
    "                                      'DATE OCC': 'Date Occurred',\n",
    "                                      'TIME OCC': 'Time Occurred',\n",
    "                                      'LAT': 'Latitude',\n",
    "                                      'LON': 'Longitude'})\n",
    "final_df = final_df.set_index('File Number')\n",
    "final_df.head()"
   ]
  },
  {
   "cell_type": "code",
   "execution_count": null,
   "id": "56813224",
   "metadata": {},
   "outputs": [],
   "source": [
    "# Code to run a heat map for the whole data\n",
    "fig = px.density_mapbox(final_df, lat = 'Latitude', lon = 'Longitude',\n",
    "                        radius = 1,\n",
    "                        center = dict(lat = 34.032, lon = -118.30),\n",
    "                        zoom = 8.5,\n",
    "                        range_color = [0,15],\n",
    "                        mapbox_style = 'open-street-map')\n",
    "#fig.write_image('Crime_Density.png')\n",
    "# ^in order to save the heat map figures, the kaleido library needs to be installed on to the conda environment used.\n",
    "# the code used in the terminal for this is: pip install -U kaleido\n",
    "fig.show()"
   ]
  },
  {
   "cell_type": "code",
   "execution_count": null,
   "id": "288e3a4f",
   "metadata": {},
   "outputs": [],
   "source": [
    "# Code to run heat maps per year\n",
    "final_df.reset_index()\n",
    "final_df.groupby(['Year'])\n",
    "years = set(final_df['Year'])\n",
    "years_df = final_df.set_index('Year')\n",
    "years\n",
    "\n",
    "for year in years:\n",
    "    df = years_df.loc[year]\n",
    "    fig = px.density_mapbox(df, lat = 'Latitude', lon = 'Longitude',\n",
    "                        radius = 1,\n",
    "                        center = dict(lat = 34.032, lon = -118.30),\n",
    "                        zoom = 8.5,\n",
    "                        range_color = [0,10],\n",
    "                        mapbox_style = 'open-street-map')\n",
    "    # fig.write_image(f'Crime_Density_{year}.png')\n",
    "    # ^ again can't be used until kaleido is installed\n",
    "    fig.show()"
   ]
  },
  {
   "cell_type": "code",
   "execution_count": null,
   "id": "3bf05d1b",
   "metadata": {},
   "outputs": [],
   "source": []
  }
 ],
 "metadata": {
  "kernelspec": {
   "display_name": "Python 3 (ipykernel)",
   "language": "python",
   "name": "python3"
  },
  "language_info": {
   "codemirror_mode": {
    "name": "ipython",
    "version": 3
   },
   "file_extension": ".py",
   "mimetype": "text/x-python",
   "name": "python",
   "nbconvert_exporter": "python",
   "pygments_lexer": "ipython3",
   "version": "3.10.11"
  }
 },
 "nbformat": 4,
 "nbformat_minor": 5
}
